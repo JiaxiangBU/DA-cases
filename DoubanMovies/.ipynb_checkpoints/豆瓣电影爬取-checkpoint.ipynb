{
 "cells": [
  {
   "cell_type": "code",
   "execution_count": 2,
   "metadata": {},
   "outputs": [],
   "source": [
    "import os\n",
    "import requests\n",
    "import pandas as pd\n",
    "import numpy as np\n",
    "import json\n",
    "import time\n",
    "import random\n",
    "from lxml import etree"
   ]
  },
  {
   "cell_type": "markdown",
   "metadata": {},
   "source": [
    "### 影信息通过动态加载，所有的信息都藏在基础网页，唯一变动的是start"
   ]
  },
  {
   "cell_type": "code",
   "execution_count": 3,
   "metadata": {},
   "outputs": [],
   "source": [
    "url1 = 'https://movie.douban.com/j/new_search_subjects?sort=T&range=0,10&tags=%E7%94%B5%E5%BD%B1&start=0'\n",
    "url2 = 'https://movie.douban.com/j/new_search_subjects?sort=T&range=0,10&tags=%E7%94%B5%E5%BD%B1&start=20'\n",
    "url3 = 'https://movie.douban.com/j/new_search_subjects?sort=T&range=0,10&tags=%E7%94%B5%E5%BD%B1&start=40'\n",
    "url4 = 'https://movie.douban.com/j/new_search_subjects?sort=T&range=0,10&tags=%E7%94%B5%E5%BD%B1&start=60'"
   ]
  },
  {
   "cell_type": "markdown",
   "metadata": {},
   "source": [
    "### 构造爬取的网址"
   ]
  },
  {
   "cell_type": "code",
   "execution_count": 6,
   "metadata": {},
   "outputs": [],
   "source": [
    "#构造网页\n",
    "def format_url(num):\n",
    "    urls = []\n",
    "    base_url = 'https://movie.douban.com/j/new_search_subjects?sort=T&range=0,10&tags=%E7%94%B5%E5%BD%B1&start={}'\n",
    "    for i in range(0,20 * num,20):\n",
    "        url = base_url.format(i)\n",
    "        urls.append(url)\n",
    "    return urls\n",
    "# 这个枚举看的莫名其妙。\n",
    "\n",
    "#这里是爬取10页，可以自行更改参数\n",
    "urls = format_url(10)"
   ]
  },
  {
   "cell_type": "code",
   "execution_count": 14,
   "metadata": {},
   "outputs": [
    {
     "name": "stdout",
     "output_type": "stream",
     "text": [
      "<class 'list'>\n",
      "10\n"
     ]
    },
    {
     "data": {
      "text/plain": [
       "['https://movie.douban.com/j/new_search_subjects?sort=T&range=0,10&tags=%E7%94%B5%E5%BD%B1&start=0',\n",
       " 'https://movie.douban.com/j/new_search_subjects?sort=T&range=0,10&tags=%E7%94%B5%E5%BD%B1&start=20',\n",
       " 'https://movie.douban.com/j/new_search_subjects?sort=T&range=0,10&tags=%E7%94%B5%E5%BD%B1&start=40',\n",
       " 'https://movie.douban.com/j/new_search_subjects?sort=T&range=0,10&tags=%E7%94%B5%E5%BD%B1&start=60',\n",
       " 'https://movie.douban.com/j/new_search_subjects?sort=T&range=0,10&tags=%E7%94%B5%E5%BD%B1&start=80',\n",
       " 'https://movie.douban.com/j/new_search_subjects?sort=T&range=0,10&tags=%E7%94%B5%E5%BD%B1&start=100',\n",
       " 'https://movie.douban.com/j/new_search_subjects?sort=T&range=0,10&tags=%E7%94%B5%E5%BD%B1&start=120',\n",
       " 'https://movie.douban.com/j/new_search_subjects?sort=T&range=0,10&tags=%E7%94%B5%E5%BD%B1&start=140',\n",
       " 'https://movie.douban.com/j/new_search_subjects?sort=T&range=0,10&tags=%E7%94%B5%E5%BD%B1&start=160',\n",
       " 'https://movie.douban.com/j/new_search_subjects?sort=T&range=0,10&tags=%E7%94%B5%E5%BD%B1&start=180']"
      ]
     },
     "execution_count": 14,
     "metadata": {},
     "output_type": "execute_result"
    }
   ],
   "source": [
    "print(urls.__class__)\n",
    "print(len(urls))\n",
    "urls"
   ]
  },
  {
   "cell_type": "markdown",
   "metadata": {
    "collapsed": true
   },
   "source": [
    "### 伪装请求头"
   ]
  },
  {
   "cell_type": "code",
   "execution_count": 15,
   "metadata": {},
   "outputs": [],
   "source": [
    "headers = {'User-Agent':'Mozilla/5.0 (Windows NT 6.1; WOW64) AppleWebKit/537.36 (KHTML, like Gecko) Chrome/63.0.3239.132 Safari/537.36'}"
   ]
  },
  {
   "cell_type": "markdown",
   "metadata": {},
   "source": [
    "###  解析单页"
   ]
  },
  {
   "cell_type": "code",
   "execution_count": 16,
   "metadata": {},
   "outputs": [],
   "source": [
    "def parse_base_info(url,headers):\n",
    "    html = requests.get(url,headers = headers)   \n",
    "    bs = json.loads(html.text)\n",
    "    df = pd.DataFrame()\n",
    "    for i in bs['data']:\n",
    "        casts = i['casts']  #主演\n",
    "        cover = i['cover']  #海报\n",
    "        directors = i['directors']  #导演\n",
    "        m_id = i['id']  #ID\n",
    "        rate = i['rate'] #评分\n",
    "        star = i['star'] #标记人数 \n",
    "        title = i['title']  #片名\n",
    "        url = i['url']  #网址\n",
    "        cache = pd.DataFrame({'主演':[casts],'海报':[cover],'导演':[directors],\n",
    "                              'ID':[m_id],'评分':[rate],'标记':[star],'片名':[title],'网址':[url]})\n",
    "        df = pd.concat([df,cache])\n",
    "    return df"
   ]
  },
  {
   "cell_type": "markdown",
   "metadata": {
    "collapsed": true
   },
   "source": [
    "### 循环批量爬取电影"
   ]
  },
  {
   "cell_type": "code",
   "execution_count": 17,
   "metadata": {},
   "outputs": [
    {
     "name": "stdout",
     "output_type": "stream",
     "text": [
      "I had crawled page of:1\n",
      "I had crawled page of:2\n",
      "I had crawled page of:3\n",
      "I had crawled page of:4\n",
      "I had crawled page of:5\n",
      "I had crawled page of:6\n",
      "I had crawled page of:7\n",
      "I had crawled page of:8\n",
      "I had crawled page of:9\n",
      "I had crawled page of:10\n"
     ]
    }
   ],
   "source": [
    "result = pd.DataFrame()\n",
    "\n",
    "count = 1\n",
    "for url in urls:\n",
    "    df = parse_base_info(url,headers = headers)\n",
    "    result = pd.concat([result,df])\n",
    "    time.sleep(random.random() + 2)\n",
    "    # 不然要出锅\n",
    "    print('I had crawled page of:%d' % count)\n",
    "    count += 1"
   ]
  },
  {
   "cell_type": "code",
   "execution_count": 18,
   "metadata": {},
   "outputs": [
    {
     "data": {
      "text/html": [
       "<div>\n",
       "<style scoped>\n",
       "    .dataframe tbody tr th:only-of-type {\n",
       "        vertical-align: middle;\n",
       "    }\n",
       "\n",
       "    .dataframe tbody tr th {\n",
       "        vertical-align: top;\n",
       "    }\n",
       "\n",
       "    .dataframe thead th {\n",
       "        text-align: right;\n",
       "    }\n",
       "</style>\n",
       "<table border=\"1\" class=\"dataframe\">\n",
       "  <thead>\n",
       "    <tr style=\"text-align: right;\">\n",
       "      <th></th>\n",
       "      <th>主演</th>\n",
       "      <th>海报</th>\n",
       "      <th>导演</th>\n",
       "      <th>ID</th>\n",
       "      <th>评分</th>\n",
       "      <th>标记</th>\n",
       "      <th>片名</th>\n",
       "      <th>网址</th>\n",
       "    </tr>\n",
       "  </thead>\n",
       "  <tbody>\n",
       "    <tr>\n",
       "      <th>0</th>\n",
       "      <td>[徐峥, 王传君, 周一围, 谭卓, 章宇]</td>\n",
       "      <td>https://img3.doubanio.com/view/photo/s_ratio_p...</td>\n",
       "      <td>[文牧野]</td>\n",
       "      <td>26752088</td>\n",
       "      <td>9.0</td>\n",
       "      <td>45</td>\n",
       "      <td>我不是药神</td>\n",
       "      <td>https://movie.douban.com/subject/26752088/</td>\n",
       "    </tr>\n",
       "    <tr>\n",
       "      <th>0</th>\n",
       "      <td>[让·雷诺, 娜塔莉·波特曼, 加里·奥德曼, 丹尼·爱罗, 彼得·阿佩尔]</td>\n",
       "      <td>https://img3.doubanio.com/view/photo/s_ratio_p...</td>\n",
       "      <td>[吕克·贝松]</td>\n",
       "      <td>1295644</td>\n",
       "      <td>9.4</td>\n",
       "      <td>45</td>\n",
       "      <td>这个杀手不太冷</td>\n",
       "      <td>https://movie.douban.com/subject/1295644/</td>\n",
       "    </tr>\n",
       "    <tr>\n",
       "      <th>0</th>\n",
       "      <td>[蒂姆·罗宾斯, 摩根·弗里曼, 鲍勃·冈顿, 威廉姆·赛德勒, 克兰西·布朗]</td>\n",
       "      <td>https://img3.doubanio.com/view/photo/s_ratio_p...</td>\n",
       "      <td>[弗兰克·德拉邦特]</td>\n",
       "      <td>1292052</td>\n",
       "      <td>9.7</td>\n",
       "      <td>50</td>\n",
       "      <td>肖申克的救赎</td>\n",
       "      <td>https://movie.douban.com/subject/1292052/</td>\n",
       "    </tr>\n",
       "    <tr>\n",
       "      <th>0</th>\n",
       "      <td>[屈楚萧, 吴京, 李光洁, 吴孟达, 赵今麦]</td>\n",
       "      <td>https://img3.doubanio.com/view/photo/s_ratio_p...</td>\n",
       "      <td>[郭帆]</td>\n",
       "      <td>26266893</td>\n",
       "      <td>7.9</td>\n",
       "      <td>40</td>\n",
       "      <td>流浪地球</td>\n",
       "      <td>https://movie.douban.com/subject/26266893/</td>\n",
       "    </tr>\n",
       "    <tr>\n",
       "      <th>0</th>\n",
       "      <td>[汤姆·汉克斯, 罗宾·怀特, 加里·西尼斯, 麦凯尔泰·威廉逊, 莎莉·菲尔德]</td>\n",
       "      <td>https://img3.doubanio.com/view/photo/s_ratio_p...</td>\n",
       "      <td>[罗伯特·泽米吉斯]</td>\n",
       "      <td>1292720</td>\n",
       "      <td>9.5</td>\n",
       "      <td>50</td>\n",
       "      <td>阿甘正传</td>\n",
       "      <td>https://movie.douban.com/subject/1292720/</td>\n",
       "    </tr>\n",
       "  </tbody>\n",
       "</table>\n",
       "</div>"
      ],
      "text/plain": [
       "                                          主演  \\\n",
       "0                     [徐峥, 王传君, 周一围, 谭卓, 章宇]   \n",
       "0     [让·雷诺, 娜塔莉·波特曼, 加里·奥德曼, 丹尼·爱罗, 彼得·阿佩尔]   \n",
       "0   [蒂姆·罗宾斯, 摩根·弗里曼, 鲍勃·冈顿, 威廉姆·赛德勒, 克兰西·布朗]   \n",
       "0                   [屈楚萧, 吴京, 李光洁, 吴孟达, 赵今麦]   \n",
       "0  [汤姆·汉克斯, 罗宾·怀特, 加里·西尼斯, 麦凯尔泰·威廉逊, 莎莉·菲尔德]   \n",
       "\n",
       "                                                  海报          导演        ID  \\\n",
       "0  https://img3.doubanio.com/view/photo/s_ratio_p...       [文牧野]  26752088   \n",
       "0  https://img3.doubanio.com/view/photo/s_ratio_p...     [吕克·贝松]   1295644   \n",
       "0  https://img3.doubanio.com/view/photo/s_ratio_p...  [弗兰克·德拉邦特]   1292052   \n",
       "0  https://img3.doubanio.com/view/photo/s_ratio_p...        [郭帆]  26266893   \n",
       "0  https://img3.doubanio.com/view/photo/s_ratio_p...  [罗伯特·泽米吉斯]   1292720   \n",
       "\n",
       "    评分  标记       片名                                          网址  \n",
       "0  9.0  45    我不是药神  https://movie.douban.com/subject/26752088/  \n",
       "0  9.4  45  这个杀手不太冷   https://movie.douban.com/subject/1295644/  \n",
       "0  9.7  50   肖申克的救赎   https://movie.douban.com/subject/1292052/  \n",
       "0  7.9  40     流浪地球  https://movie.douban.com/subject/26266893/  \n",
       "0  9.5  50     阿甘正传   https://movie.douban.com/subject/1292720/  "
      ]
     },
     "execution_count": 18,
     "metadata": {},
     "output_type": "execute_result"
    }
   ],
   "source": [
    "result.head()"
   ]
  },
  {
   "cell_type": "markdown",
   "metadata": {},
   "source": [
    "### 解析单个页面，获取详细的电影信息"
   ]
  },
  {
   "cell_type": "code",
   "execution_count": 14,
   "metadata": {},
   "outputs": [],
   "source": [
    "def parse_movie_info(url,headers = headers,ip = ''):\n",
    "    if ip == '':\n",
    "        html = requests.get(url,headers = headers)\n",
    "    else:\n",
    "        html = requests.get(url,headers = headers,proxies = ip)\n",
    "    bs = etree.HTML(html.text)\n",
    "    #片名\n",
    "    title = bs.xpath('//div[@id = \"wrapper\"]/div/h1/span')[0].text  \n",
    "    #上映时间\n",
    "    year = bs.xpath('//div[@id = \"wrapper\"]/div/h1/span')[1].text   \n",
    "    #电影类型\n",
    "    m_type = []\n",
    "    for t in bs.xpath('//span[@property = \"v:genre\"]'):\n",
    "        m_type.append(t.text)   \n",
    "    a = bs.xpath('//div[@id= \"info\"]')[0].xpath('string()')\n",
    "    #片长\n",
    "    m_time =a[a.find('片长: ') + 4:a.find('分钟\\n')]  #时长\n",
    "    #地区\n",
    "    area = a[a.find('制片国家/地区:') + 9:a.find('\\n        语言')]  #地区\n",
    "    #评分人数\n",
    "    try:\n",
    "        people = bs.xpath('//a[@class = \"rating_people\"]/span')[0].text\n",
    "    #评分分布\n",
    "        rating = {}\n",
    "        rate_count = bs.xpath('//div[@class = \"ratings-on-weight\"]/div')\n",
    "        for rate in rate_count:\n",
    "            rating[rate.xpath('span/@title')[0]] = rate.xpath('span[@class = \"rating_per\"]')[0].text\n",
    "    except:\n",
    "        people = 'None'\n",
    "        rating = {}\n",
    "    #简介\n",
    "    try:\n",
    "        brief = bs.xpath('//span[@property = \"v:summary\"]')[0].text.strip('\\n                                \\u3000\\u3000')\n",
    "    except:\n",
    "        brief = 'None'\n",
    "    try:\n",
    "        hot_comment = bs.xpath('//div[@id = \"hot-comments\"]/div/div/p/span')[0].text\n",
    "    except:\n",
    "        hot_comment = 'None'\n",
    "    cache = pd.DataFrame({'片名':[title],'上映时间':[year],'电影类型':[m_type],'片长':[m_time],\n",
    "                          '地区':[area],'评分人数':[people],'评分分布':[rating],'简介':[brief],'热评':[hot_comment],'网址':[url]})\n",
    "    return cache"
   ]
  },
  {
   "cell_type": "markdown",
   "metadata": {
    "collapsed": true
   },
   "source": [
    "### 批量访问单个电影页面"
   ]
  },
  {
   "cell_type": "code",
   "execution_count": 19,
   "metadata": {},
   "outputs": [
    {
     "name": "stdout",
     "output_type": "stream",
     "text": [
      "滴滴滴滴滴，第1次报错\n",
      "ip is:\n",
      "滴滴滴滴滴，第2次报错\n",
      "ip is:\n",
      "滴滴滴滴滴，第3次报错\n",
      "ip is:\n",
      "滴滴滴滴滴，第4次报错\n",
      "ip is:\n",
      "滴滴滴滴滴，第5次报错\n",
      "ip is:\n",
      "滴滴滴滴滴，第6次报错\n",
      "ip is:\n",
      "滴滴滴滴滴，第7次报错\n",
      "ip is:\n",
      "滴滴滴滴滴，第8次报错\n",
      "ip is:\n",
      "滴滴滴滴滴，第9次报错\n",
      "ip is:\n",
      "滴滴滴滴滴，第10次报错\n",
      "ip is:\n",
      "滴滴滴滴滴，第11次报错\n",
      "ip is:\n",
      "滴滴滴滴滴，第12次报错\n",
      "ip is:\n",
      "滴滴滴滴滴，第13次报错\n",
      "ip is:\n",
      "滴滴滴滴滴，第14次报错\n",
      "ip is:\n",
      "滴滴滴滴滴，第15次报错\n",
      "ip is:\n",
      "滴滴滴滴滴，第16次报错\n",
      "ip is:\n",
      "滴滴滴滴滴，第17次报错\n",
      "ip is:\n"
     ]
    },
    {
     "ename": "KeyboardInterrupt",
     "evalue": "",
     "output_type": "error",
     "traceback": [
      "\u001b[1;31m---------------------------------------------------------------------------\u001b[0m",
      "\u001b[1;31mNameError\u001b[0m                                 Traceback (most recent call last)",
      "\u001b[1;32m<ipython-input-19-772e74689d4a>\u001b[0m in \u001b[0;36m<module>\u001b[1;34m\u001b[0m\n\u001b[0;32m      8\u001b[0m     \u001b[1;32mtry\u001b[0m\u001b[1;33m:\u001b[0m\u001b[1;33m\u001b[0m\u001b[0m\n\u001b[1;32m----> 9\u001b[1;33m         \u001b[0mcache\u001b[0m \u001b[1;33m=\u001b[0m \u001b[0mparse_movie_info\u001b[0m\u001b[1;33m(\u001b[0m\u001b[0murl\u001b[0m\u001b[1;33m,\u001b[0m\u001b[0mheaders\u001b[0m \u001b[1;33m=\u001b[0m \u001b[0mheaders\u001b[0m\u001b[1;33m,\u001b[0m\u001b[0mip\u001b[0m \u001b[1;33m=\u001b[0m \u001b[0mip\u001b[0m\u001b[1;33m)\u001b[0m\u001b[1;33m\u001b[0m\u001b[0m\n\u001b[0m\u001b[0;32m     10\u001b[0m         \u001b[0mmovie_result\u001b[0m \u001b[1;33m=\u001b[0m \u001b[0mpd\u001b[0m\u001b[1;33m.\u001b[0m\u001b[0mconcat\u001b[0m\u001b[1;33m(\u001b[0m\u001b[1;33m[\u001b[0m\u001b[0mmovie_result\u001b[0m\u001b[1;33m,\u001b[0m\u001b[0mcache\u001b[0m\u001b[1;33m]\u001b[0m\u001b[1;33m)\u001b[0m\u001b[1;33m\u001b[0m\u001b[0m\n",
      "\u001b[1;31mNameError\u001b[0m: name 'parse_movie_info' is not defined",
      "\nDuring handling of the above exception, another exception occurred:\n",
      "\u001b[1;31mKeyboardInterrupt\u001b[0m                         Traceback (most recent call last)",
      "\u001b[1;32m<ipython-input-19-772e74689d4a>\u001b[0m in \u001b[0;36m<module>\u001b[1;34m\u001b[0m\n\u001b[0;32m     16\u001b[0m         \u001b[0mprint\u001b[0m\u001b[1;33m(\u001b[0m\u001b[1;34m'ip is:{}'\u001b[0m\u001b[1;33m.\u001b[0m\u001b[0mformat\u001b[0m\u001b[1;33m(\u001b[0m\u001b[0mip\u001b[0m\u001b[1;33m)\u001b[0m\u001b[1;33m)\u001b[0m\u001b[1;33m\u001b[0m\u001b[0m\n\u001b[0;32m     17\u001b[0m         \u001b[0mcw\u001b[0m \u001b[1;33m+=\u001b[0m \u001b[1;36m1\u001b[0m\u001b[1;33m\u001b[0m\u001b[0m\n\u001b[1;32m---> 18\u001b[1;33m         \u001b[0mtime\u001b[0m\u001b[1;33m.\u001b[0m\u001b[0msleep\u001b[0m\u001b[1;33m(\u001b[0m\u001b[1;36m2\u001b[0m\u001b[1;33m)\u001b[0m\u001b[1;33m\u001b[0m\u001b[0m\n\u001b[0m\u001b[0;32m     19\u001b[0m         \u001b[1;32mcontinue\u001b[0m\u001b[1;33m\u001b[0m\u001b[0m\n",
      "\u001b[1;31mKeyboardInterrupt\u001b[0m: "
     ]
    }
   ],
   "source": [
    "movie_result = pd.DataFrame()\n",
    "ip = ''  #这里构建自己的IP池\n",
    "count2 = 1\n",
    "cw = 1\n",
    "\n",
    "for url,name in zip(result['网址'].values,result['片名'].values):\n",
    "#for name,url in wrongs.items():\n",
    "    try:\n",
    "        cache = parse_movie_info(url,headers = headers,ip = ip)\n",
    "        movie_result = pd.concat([movie_result,cache])\n",
    "        #time.sleep(random.random())\n",
    "        print('我们爬取了第:%d部电影-------%s' % (count2,name))\n",
    "        count2 += 1\n",
    "    except:\n",
    "        print('滴滴滴滴滴，第{}次报错'.format(cw))\n",
    "        print('ip is:{}'.format(ip))\n",
    "        cw += 1\n",
    "        time.sleep(2)\n",
    "        continue"
   ]
  },
  {
   "cell_type": "code",
   "execution_count": 20,
   "metadata": {},
   "outputs": [
    {
     "data": {
      "text/html": [
       "<div>\n",
       "<style scoped>\n",
       "    .dataframe tbody tr th:only-of-type {\n",
       "        vertical-align: middle;\n",
       "    }\n",
       "\n",
       "    .dataframe tbody tr th {\n",
       "        vertical-align: top;\n",
       "    }\n",
       "\n",
       "    .dataframe thead th {\n",
       "        text-align: right;\n",
       "    }\n",
       "</style>\n",
       "<table border=\"1\" class=\"dataframe\">\n",
       "  <thead>\n",
       "    <tr style=\"text-align: right;\">\n",
       "      <th></th>\n",
       "    </tr>\n",
       "  </thead>\n",
       "  <tbody>\n",
       "  </tbody>\n",
       "</table>\n",
       "</div>"
      ],
      "text/plain": [
       "Empty DataFrame\n",
       "Columns: []\n",
       "Index: []"
      ]
     },
     "execution_count": 20,
     "metadata": {},
     "output_type": "execute_result"
    }
   ],
   "source": [
    "movie_result.head()"
   ]
  },
  {
   "cell_type": "markdown",
   "metadata": {
    "collapsed": true
   },
   "source": [
    "### 文件存储"
   ]
  },
  {
   "cell_type": "code",
   "execution_count": 18,
   "metadata": {},
   "outputs": [],
   "source": [
    "result.to_excel('电影基本信息大全.xlsx')\n",
    "movie_result.to_excel('电影详细信息.xlsx')"
   ]
  }
 ],
 "metadata": {
  "anaconda-cloud": {},
  "kernelspec": {
   "display_name": "Python 3",
   "language": "python",
   "name": "python3"
  },
  "language_info": {
   "codemirror_mode": {
    "name": "ipython",
    "version": 3
   },
   "file_extension": ".py",
   "mimetype": "text/x-python",
   "name": "python",
   "nbconvert_exporter": "python",
   "pygments_lexer": "ipython3",
   "version": "3.7.0"
  },
  "latex_envs": {
   "LaTeX_envs_menu_present": true,
   "autoclose": true,
   "autocomplete": true,
   "bibliofile": "biblio.bib",
   "cite_by": "apalike",
   "current_citInitial": 1,
   "eqLabelWithNumbers": true,
   "eqNumInitial": 1,
   "hotkeys": {
    "equation": "Ctrl-E",
    "itemize": "Ctrl-I"
   },
   "labels_anchors": false,
   "latex_user_defs": false,
   "report_style_numbering": false,
   "user_envs_cfg": false
  }
 },
 "nbformat": 4,
 "nbformat_minor": 2
}
